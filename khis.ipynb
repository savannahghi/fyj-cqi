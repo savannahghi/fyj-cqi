{
 "cells": [
  {
   "cell_type": "code",
   "execution_count": 254,
   "outputs": [],
   "source": [
    "import pandas as pd\n",
    "\n"
   ],
   "metadata": {
    "collapsed": false,
    "pycharm": {
     "name": "#%%\n"
    }
   }
  },
  {
   "cell_type": "code",
   "execution_count": 332,
   "outputs": [],
   "source": [
    "def khis_data_prep():\n",
    "    df=pd.read_excel(\"FYJ_KHIS Data _ Oct - Dec'22.xlsx\")\n",
    "    df['month']=pd.to_datetime(df['month'])\n",
    "    df['month']=df['month'].dt.strftime('%b %Y')\n",
    "\n",
    "    df=df[['mfl', 'month', 'mois', 'facility', 'UniqID','PrEP_New_dhis','dhis_start_ipt_total','sGBV_Seen_dhis','dhis_screen_cacx_new_f18','dhis_tested_9', 'dhis_tested_14m', 'dhis_tested_14f', 'dhis_tested_19m', 'dhis_tested_19f', 'dhis_tested_24m', 'dhis_tested_24f', 'dhis_tested_25m', 'dhis_tested_25f','dhis_pos_lt9', 'dhis_pos_14m', 'dhis_pos_14f','dhis_pos_19m', 'dhis_pos_19f', 'dhis_pos_24m', 'dhis_pos_24f', 'dhis_pos_25m', 'dhis_pos_25f','known_pos_at_first_anc','pos_results_anc','on_haart_at_first_anc','start_haart_anc','infant_arv_prophyl_anc','pos_results_LD','start_haart_LD','infant_arv_prophyl_LD','pos_results_pnc_lt6wks','start_haart_pnc_lt6wks','infant_arv_prophyl_lt8wks_pnc','dhis_start_art_lt1','dhis_start_art_9','dhis_start_art_14m','dhis_start_art_14f','dhis_start_art_19m','dhis_start_art_19f','dhis_start_art_24m','dhis_start_art_24f','dhis_start_art_25m','dhis_start_art_25f','dhis_tb_cases_new','dhis_on_art_lt1', 'dhis_on_art_9', 'dhis_on_art_14m', 'dhis_on_art_14f','dhis_on_art_19m', 'dhis_on_art_19f', 'dhis_on_art_24m', 'dhis_on_art_24f', 'dhis_on_art_25m', 'dhis_on_art_25f','kps_at_first_anc','anc_initial_test','first_anc_visits','pos_pnc_gt6weeks_to_6_mon'\n",
    "     ]]\n",
    "\n",
    "    for i in df.columns[5:]:\n",
    "        df[i]=df[i].astype(int)\n",
    "\n",
    "    df['TX_New_p']=df['dhis_start_art_lt1']+df['dhis_start_art_9']+df['dhis_start_art_14m']+df['dhis_start_art_14f']\n",
    "    df['TX_New_a']=df['dhis_start_art_19m']+df['dhis_start_art_19f']+df['dhis_start_art_24m']+df['dhis_start_art_24f']+df['dhis_start_art_25m']+df['dhis_start_art_25f']\n",
    "\n",
    "    df['TX_New_t']=df['dhis_start_art_lt1']+df['dhis_start_art_9']+df['dhis_start_art_14m']+df['dhis_start_art_14f']+df['dhis_start_art_19m']+df['dhis_start_art_19f']+df['dhis_start_art_24m']+df['dhis_start_art_24f']+df['dhis_start_art_25m']+df['dhis_start_art_25f']\n",
    "\n",
    "    df['TX_Curr_p']=df['dhis_on_art_lt1']+df['dhis_on_art_9']+df['dhis_on_art_14m']+df['dhis_on_art_14f']\n",
    "    df['TX_Curr_a']=df['dhis_on_art_19m']+df['dhis_on_art_19f']+df['dhis_on_art_24m']+df['dhis_on_art_24f']+df['dhis_on_art_25m']+df['dhis_on_art_25f']\n",
    "\n",
    "    df['TX_Curr_t']=df['dhis_on_art_lt1']+df['dhis_on_art_9']+df['dhis_on_art_14m']+df['dhis_on_art_14f']+df['dhis_on_art_19m']+df['dhis_on_art_19f']+df['dhis_on_art_24m']+df['dhis_on_art_24f']+df['dhis_on_art_25m']+df['dhis_on_art_25f']\n",
    "\n",
    "    df['TST_t']=df['dhis_tested_9']+df['dhis_tested_14m']+df['dhis_tested_14f']+df['dhis_tested_19m']+df['dhis_tested_19f']+df['dhis_tested_24m']+df['dhis_tested_24f']+df['dhis_tested_25m']+df['dhis_tested_25f']\n",
    "\n",
    "    df['TST_p']=df['dhis_tested_9']+df['dhis_tested_14m']+df['dhis_tested_14f']\n",
    "\n",
    "    df['TST_a']=df['dhis_tested_19m']+df['dhis_tested_19f']+df['dhis_tested_24m']+df['dhis_tested_24f']+df['dhis_tested_25m']+df['dhis_tested_25f']\n",
    "\n",
    "    df['TST_pos_p']=df['dhis_pos_lt9']+df['dhis_pos_14m']+df['dhis_pos_14f']\n",
    "    df['TST_pos_a']=df['dhis_pos_19m']+df['dhis_pos_19f']+df['dhis_pos_24m']+df['dhis_pos_24f']+df['dhis_pos_25m']+df['dhis_pos_25f']\n",
    "\n",
    "    df['TST_pos_t']=df['dhis_pos_lt9']+df['dhis_pos_14m']+df['dhis_pos_14f']+df['dhis_pos_19m']+df['dhis_pos_19f']+df['dhis_pos_24m']+df['dhis_pos_24f']+df['dhis_pos_25m']+df['dhis_pos_25f']\n",
    "\n",
    "    df['PMTCT_STAT_N']=df['kps_at_first_anc']+df['anc_initial_test']\n",
    "    df['PMTCT_STAT_D']=df['first_anc_visits']\n",
    "    df['PMTCT_Pos']=df['kps_at_first_anc']+df['pos_results_anc']\n",
    "    df['PMTCT_ARV']=df['start_haart_anc']+df['on_haart_at_first_anc']\n",
    "    df['PMTCT_INF_ARV']=df['infant_arv_prophyl_anc']+df['infant_arv_prophyl_lt8wks_pnc']+df['infant_arv_prophyl_LD']\n",
    "    df['Pos_PNC']=df['pos_results_pnc_lt6wks']+df['pos_pnc_gt6weeks_to_6_mon']\n",
    "\n",
    "    columns_to_drop = ['dhis_on_art_19m', 'dhis_on_art_19f', 'dhis_on_art_24m', 'dhis_on_art_24f', 'dhis_on_art_25m', 'dhis_on_art_25f','dhis_on_art_lt1','dhis_on_art_9','dhis_on_art_14m',                   'dhis_on_art_14f', 'dhis_start_art_lt1', 'dhis_start_art_9', 'dhis_start_art_14m', 'dhis_start_art_14f', 'dhis_start_art_19m', 'dhis_start_art_19f', 'dhis_start_art_24m',                   'dhis_start_art_24f', 'dhis_start_art_25m', 'dhis_start_art_25f', 'dhis_tested_9', 'dhis_tested_14m', 'dhis_tested_14f', 'dhis_tested_19m', 'dhis_tested_19f',                   'dhis_tested_24m', 'dhis_tested_24f', 'dhis_tested_25m', 'dhis_tested_25f', 'dhis_pos_lt9', 'dhis_pos_14m', 'dhis_pos_14f', 'dhis_pos_19m', 'dhis_pos_19f',                   'dhis_pos_24m', 'dhis_pos_24f', 'dhis_pos_25m', 'dhis_pos_25f','mois','UniqID','kps_at_first_anc', 'pos_pnc_gt6weeks_to_6_mon']\n",
    "\n",
    "    df = df.drop(columns_to_drop, axis=1)\n",
    "\n",
    "\n",
    "\n",
    "\n",
    "    df=df.rename(columns={\n",
    "     'PrEP_New_dhis':'PrEP_New','dhis_start_ipt_total':'IPT','sGBV_Seen_dhis':'GBV_Sexual','dhis_screen_cacx_new_f18':'CXCA','known_pos_at_first_anc':'KP_ANC','pos_results_anc':'Newpos_ANC','on_haart_at_first_anc':'on HAART _ANC','start_haart_anc':'New on HAART_ANC','pos_results_LD':'Pos_L&D','start_haart_LD':'haart_l_d','dhis_tb_cases_new':'TB_STAT_D',\"mfl\":\"MFL\",\"facility\":\"Facility\",\"month\":\"Month\"\n",
    "    })\n",
    "    columns_to_use=['MFL', 'Facility', 'Month','TST_p', 'TST_a', 'TST_t', 'TST_pos_p',\n",
    "    'TST_pos_a', 'TST_pos_t', 'TX_New_p', 'TX_New_a', 'TX_New_t',\n",
    "    'TX_Curr_p', 'TX_Curr_a', 'TX_Curr_t', 'PMTCT_STAT_D', 'PMTCT_STAT_N',\n",
    "    'PMTCT_Pos', 'PMTCT_ARV', 'PMTCT_INF_ARV',\n",
    "    'PrEP_New', 'GBV_Sexual',  'infant_arv_prophyl_anc',\n",
    "    'infant_arv_prophyl_LD','infant_arv_prophyl_lt8wks_pnc',\n",
    "    'haart_l_d',\n",
    "    'pos_results_pnc_lt6wks','start_haart_pnc_lt6wks',\n",
    "    'KP_ANC',\n",
    "    'Newpos_ANC', 'on HAART _ANC', 'New on HAART_ANC', 'Pos_L&D', 'Pos_PNC',\n",
    "    'CXCA', 'TB_STAT_D', 'IPT','anc_initial_test', 'first_anc_visits',   ]\n",
    "    df=df[columns_to_use]\n",
    "    return df\n"
   ],
   "metadata": {
    "collapsed": false,
    "pycharm": {
     "name": "#%%\n"
    }
   }
  },
  {
   "cell_type": "code",
   "execution_count": 333,
   "outputs": [
    {
     "data": {
      "text/plain": "       MFL                                           Facility     Month  \\\n0    16796                AAR Clinic Sarit Centre (Westlands)  Oct 2022   \n1    19958                            AAR Gwh Health Care Ltd  Oct 2022   \n2    18535  Adventist Centre For Care and Support (Westlands)  Oct 2022   \n3    12867                                 Agha Khan Hospital  Oct 2022   \n4    12870                                Amurt Health Center  Oct 2022   \n..     ...                                                ...       ...   \n445  15361                                   Nkama Dispensary  Dec 2022   \n446  15490                                Rombo Health Centre  Dec 2022   \n447  15574                                Simba Health Centre  Dec 2022   \n448  17767                            Tropical Medical Clinic  Dec 2022   \n449  15748                                     Tumaini Clinic  Dec 2022   \n\n     TST_p  TST_a  TST_t  TST_pos_p  TST_pos_a  TST_pos_t  TX_New_p  ...  \\\n0        0     75     75          0          0          0         0  ...   \n1        0      0      0          0          0          0         0  ...   \n2        0      4      4          0          0          0         0  ...   \n3        0      0      0          0          0          0         0  ...   \n4       10     74     84          0          3          3         0  ...   \n..     ...    ...    ...        ...        ...        ...       ...  ...   \n445      0      5      5          0          0          0         0  ...   \n446      1     23     24          0          1          1         0  ...   \n447      0     40     40          0          0          0         0  ...   \n448      0      0      0          0          0          0         0  ...   \n449      0     14     14          0          0          0         0  ...   \n\n     Newpos_ANC  on HAART _ANC  New on HAART_ANC  Pos_L&D  Pos_PNC  CXCA  \\\n0             0              0                 0        0        0     0   \n1             0              0                 0        0        0     0   \n2             0              0                 0        0        0     0   \n3             0              0                 0        0        0     0   \n4             0              0                 0        0        0    11   \n..          ...            ...               ...      ...      ...   ...   \n445           0              0                 0        0        0     0   \n446           0              1                 0        0        0     0   \n447           0              0                 0        0        0     3   \n448           0              0                 0        0        0     0   \n449           0              0                 0        0        0     0   \n\n     TB_STAT_D  IPT  anc_initial_test  first_anc_visits  \n0            1    0                10                10  \n1            0    0                 0                 0  \n2            0    0                 0                 0  \n3           12    0                 0                 0  \n4            4    1                 4                 4  \n..         ...  ...               ...               ...  \n445          0    0                 8                 8  \n446          2    1                15                58  \n447          0    0                25                25  \n448          0    0                 0                 0  \n449          0    0                 0                 0  \n\n[450 rows x 39 columns]",
      "text/html": "<div>\n<style scoped>\n    .dataframe tbody tr th:only-of-type {\n        vertical-align: middle;\n    }\n\n    .dataframe tbody tr th {\n        vertical-align: top;\n    }\n\n    .dataframe thead th {\n        text-align: right;\n    }\n</style>\n<table border=\"1\" class=\"dataframe\">\n  <thead>\n    <tr style=\"text-align: right;\">\n      <th></th>\n      <th>MFL</th>\n      <th>Facility</th>\n      <th>Month</th>\n      <th>TST_p</th>\n      <th>TST_a</th>\n      <th>TST_t</th>\n      <th>TST_pos_p</th>\n      <th>TST_pos_a</th>\n      <th>TST_pos_t</th>\n      <th>TX_New_p</th>\n      <th>...</th>\n      <th>Newpos_ANC</th>\n      <th>on HAART _ANC</th>\n      <th>New on HAART_ANC</th>\n      <th>Pos_L&amp;D</th>\n      <th>Pos_PNC</th>\n      <th>CXCA</th>\n      <th>TB_STAT_D</th>\n      <th>IPT</th>\n      <th>anc_initial_test</th>\n      <th>first_anc_visits</th>\n    </tr>\n  </thead>\n  <tbody>\n    <tr>\n      <th>0</th>\n      <td>16796</td>\n      <td>AAR Clinic Sarit Centre (Westlands)</td>\n      <td>Oct 2022</td>\n      <td>0</td>\n      <td>75</td>\n      <td>75</td>\n      <td>0</td>\n      <td>0</td>\n      <td>0</td>\n      <td>0</td>\n      <td>...</td>\n      <td>0</td>\n      <td>0</td>\n      <td>0</td>\n      <td>0</td>\n      <td>0</td>\n      <td>0</td>\n      <td>1</td>\n      <td>0</td>\n      <td>10</td>\n      <td>10</td>\n    </tr>\n    <tr>\n      <th>1</th>\n      <td>19958</td>\n      <td>AAR Gwh Health Care Ltd</td>\n      <td>Oct 2022</td>\n      <td>0</td>\n      <td>0</td>\n      <td>0</td>\n      <td>0</td>\n      <td>0</td>\n      <td>0</td>\n      <td>0</td>\n      <td>...</td>\n      <td>0</td>\n      <td>0</td>\n      <td>0</td>\n      <td>0</td>\n      <td>0</td>\n      <td>0</td>\n      <td>0</td>\n      <td>0</td>\n      <td>0</td>\n      <td>0</td>\n    </tr>\n    <tr>\n      <th>2</th>\n      <td>18535</td>\n      <td>Adventist Centre For Care and Support (Westlands)</td>\n      <td>Oct 2022</td>\n      <td>0</td>\n      <td>4</td>\n      <td>4</td>\n      <td>0</td>\n      <td>0</td>\n      <td>0</td>\n      <td>0</td>\n      <td>...</td>\n      <td>0</td>\n      <td>0</td>\n      <td>0</td>\n      <td>0</td>\n      <td>0</td>\n      <td>0</td>\n      <td>0</td>\n      <td>0</td>\n      <td>0</td>\n      <td>0</td>\n    </tr>\n    <tr>\n      <th>3</th>\n      <td>12867</td>\n      <td>Agha Khan Hospital</td>\n      <td>Oct 2022</td>\n      <td>0</td>\n      <td>0</td>\n      <td>0</td>\n      <td>0</td>\n      <td>0</td>\n      <td>0</td>\n      <td>0</td>\n      <td>...</td>\n      <td>0</td>\n      <td>0</td>\n      <td>0</td>\n      <td>0</td>\n      <td>0</td>\n      <td>0</td>\n      <td>12</td>\n      <td>0</td>\n      <td>0</td>\n      <td>0</td>\n    </tr>\n    <tr>\n      <th>4</th>\n      <td>12870</td>\n      <td>Amurt Health Center</td>\n      <td>Oct 2022</td>\n      <td>10</td>\n      <td>74</td>\n      <td>84</td>\n      <td>0</td>\n      <td>3</td>\n      <td>3</td>\n      <td>0</td>\n      <td>...</td>\n      <td>0</td>\n      <td>0</td>\n      <td>0</td>\n      <td>0</td>\n      <td>0</td>\n      <td>11</td>\n      <td>4</td>\n      <td>1</td>\n      <td>4</td>\n      <td>4</td>\n    </tr>\n    <tr>\n      <th>...</th>\n      <td>...</td>\n      <td>...</td>\n      <td>...</td>\n      <td>...</td>\n      <td>...</td>\n      <td>...</td>\n      <td>...</td>\n      <td>...</td>\n      <td>...</td>\n      <td>...</td>\n      <td>...</td>\n      <td>...</td>\n      <td>...</td>\n      <td>...</td>\n      <td>...</td>\n      <td>...</td>\n      <td>...</td>\n      <td>...</td>\n      <td>...</td>\n      <td>...</td>\n      <td>...</td>\n    </tr>\n    <tr>\n      <th>445</th>\n      <td>15361</td>\n      <td>Nkama Dispensary</td>\n      <td>Dec 2022</td>\n      <td>0</td>\n      <td>5</td>\n      <td>5</td>\n      <td>0</td>\n      <td>0</td>\n      <td>0</td>\n      <td>0</td>\n      <td>...</td>\n      <td>0</td>\n      <td>0</td>\n      <td>0</td>\n      <td>0</td>\n      <td>0</td>\n      <td>0</td>\n      <td>0</td>\n      <td>0</td>\n      <td>8</td>\n      <td>8</td>\n    </tr>\n    <tr>\n      <th>446</th>\n      <td>15490</td>\n      <td>Rombo Health Centre</td>\n      <td>Dec 2022</td>\n      <td>1</td>\n      <td>23</td>\n      <td>24</td>\n      <td>0</td>\n      <td>1</td>\n      <td>1</td>\n      <td>0</td>\n      <td>...</td>\n      <td>0</td>\n      <td>1</td>\n      <td>0</td>\n      <td>0</td>\n      <td>0</td>\n      <td>0</td>\n      <td>2</td>\n      <td>1</td>\n      <td>15</td>\n      <td>58</td>\n    </tr>\n    <tr>\n      <th>447</th>\n      <td>15574</td>\n      <td>Simba Health Centre</td>\n      <td>Dec 2022</td>\n      <td>0</td>\n      <td>40</td>\n      <td>40</td>\n      <td>0</td>\n      <td>0</td>\n      <td>0</td>\n      <td>0</td>\n      <td>...</td>\n      <td>0</td>\n      <td>0</td>\n      <td>0</td>\n      <td>0</td>\n      <td>0</td>\n      <td>3</td>\n      <td>0</td>\n      <td>0</td>\n      <td>25</td>\n      <td>25</td>\n    </tr>\n    <tr>\n      <th>448</th>\n      <td>17767</td>\n      <td>Tropical Medical Clinic</td>\n      <td>Dec 2022</td>\n      <td>0</td>\n      <td>0</td>\n      <td>0</td>\n      <td>0</td>\n      <td>0</td>\n      <td>0</td>\n      <td>0</td>\n      <td>...</td>\n      <td>0</td>\n      <td>0</td>\n      <td>0</td>\n      <td>0</td>\n      <td>0</td>\n      <td>0</td>\n      <td>0</td>\n      <td>0</td>\n      <td>0</td>\n      <td>0</td>\n    </tr>\n    <tr>\n      <th>449</th>\n      <td>15748</td>\n      <td>Tumaini Clinic</td>\n      <td>Dec 2022</td>\n      <td>0</td>\n      <td>14</td>\n      <td>14</td>\n      <td>0</td>\n      <td>0</td>\n      <td>0</td>\n      <td>0</td>\n      <td>...</td>\n      <td>0</td>\n      <td>0</td>\n      <td>0</td>\n      <td>0</td>\n      <td>0</td>\n      <td>0</td>\n      <td>0</td>\n      <td>0</td>\n      <td>0</td>\n      <td>0</td>\n    </tr>\n  </tbody>\n</table>\n<p>450 rows × 39 columns</p>\n</div>"
     },
     "execution_count": 333,
     "metadata": {},
     "output_type": "execute_result"
    }
   ],
   "source": [
    "df=khis_data_prep()\n",
    "df"
   ],
   "metadata": {
    "collapsed": false,
    "pycharm": {
     "name": "#%%\n"
    }
   }
  },
  {
   "cell_type": "code",
   "execution_count": 337,
   "outputs": [
    {
     "name": "stdout",
     "output_type": "stream",
     "text": [
      "0 MFL\n",
      "1 Facility\n",
      "2 Month\n",
      "3 TST_p\n",
      "4 TST_a\n",
      "5 TST_t\n",
      "6 TST_pos_p\n",
      "7 TST_pos_a\n",
      "8 TST_pos_t\n",
      "9 TX_New_p\n",
      "10 TX_New_a\n",
      "11 TX_New_t\n",
      "12 TX_Curr_p\n",
      "13 TX_Curr_a\n",
      "14 TX_Curr_t\n",
      "15 PMTCT_STAT_D\n",
      "16 PMTCT_STAT_N\n",
      "17 PMTCT_Pos\n",
      "18 PMTCT_ARV\n",
      "19 PMTCT_INF_ARV\n",
      "20 PrEP_New\n",
      "21 GBV_Sexual\n",
      "22 infant_arv_prophyl_anc\n",
      "23 infant_arv_prophyl_LD\n",
      "24 infant_arv_prophyl_lt8wks_pnc\n",
      "25 haart_l_d\n",
      "26 pos_results_pnc_lt6wks\n",
      "27 start_haart_pnc_lt6wks\n",
      "28 KP_ANC\n",
      "29 Newpos_ANC\n",
      "30 on HAART _ANC\n",
      "31 New on HAART_ANC\n",
      "32 Pos_L&D\n",
      "33 Pos_PNC\n",
      "34 CXCA\n",
      "35 TB_STAT_D\n",
      "36 IPT\n",
      "37 anc_initial_test\n",
      "38 first_anc_visits\n"
     ]
    }
   ],
   "source": [
    "for count, i in enumerate(df.columns):\n",
    "    print(f\"{count} {i}\")"
   ],
   "metadata": {
    "collapsed": false,
    "pycharm": {
     "name": "#%%\n"
    }
   }
  },
  {
   "cell_type": "code",
   "execution_count": 339,
   "outputs": [
    {
     "data": {
      "text/plain": "['Oct 2022', 'Nov 2022', 'Dec 2022']"
     },
     "execution_count": 339,
     "metadata": {},
     "output_type": "execute_result"
    }
   ],
   "source": [
    "list(df['Month'].unique())"
   ],
   "metadata": {
    "collapsed": false,
    "pycharm": {
     "name": "#%%\n"
    }
   }
  },
  {
   "cell_type": "code",
   "execution_count": 322,
   "outputs": [
    {
     "data": {
      "text/plain": "['TST_p',\n 'TST_a',\n 'TST_t',\n 'TST_pos_p',\n 'TST_pos_a',\n 'TST_pos_t',\n 'TX_New_p',\n 'TX_New_a',\n 'TX_New_t',\n 'TX_Curr_p',\n 'TX_Curr_a',\n 'TX_Curr_t',\n 'PMTCT_STAT_D',\n 'PMTCT_STAT_N',\n 'PMTCT_Pos',\n 'PMTCT_ARV',\n 'PMTCT_INF_ARV',\n 'PMTCT_EID',\n 'HEI_Pos',\n 'HEI_Pos ART',\n 'PrEP_New',\n 'GBV_Sexual',\n 'GBV Emotional/Phy',\n 'KP_ANC',\n 'Newpos_ANC',\n 'on HAART _ANC',\n 'New on HAART_ANC',\n 'Pos_L&D',\n 'Pos_PNC',\n 'CXCA',\n 'TB_STAT_D',\n 'IPT']"
     },
     "execution_count": 322,
     "metadata": {},
     "output_type": "execute_result"
    }
   ],
   "source": [
    "# ['TST_p', 'TST_a', 'TST_t', 'TST_pos_p',\n",
    "#        'TST_pos_a', 'TST_pos_t', 'TX_New_p', 'TX_New_a', 'TX_New_t',\n",
    "#        'TX_Curr_p', 'TX_Curr_a', 'TX_Curr_t', 'PMTCT_STAT_D', 'PMTCT_STAT_N',\n",
    "#        'PMTCT_Pos', 'PMTCT_ARV', 'PMTCT_INF_ARV', 'PMTCT_EID', 'HEI_Pos',\n",
    "#        'HEI_Pos ART', 'PrEP_New', 'GBV_Sexual', 'GBV Emotional/Phy', 'KP_ANC',\n",
    "#        'Newpos_ANC', 'on HAART _ANC', 'New on HAART_ANC', 'Pos_L&D', 'Pos_PNC',\n",
    "#        'CXCA', 'TB_STAT_D', 'IPT']"
   ],
   "metadata": {
    "collapsed": false,
    "pycharm": {
     "name": "#%%\n"
    }
   }
  },
  {
   "cell_type": "code",
   "execution_count": 259,
   "outputs": [
    {
     "data": {
      "text/plain": "MFL                               int64\nMonth                            object\nFacility                         object\nPrEP_New                          int32\nIPT                               int32\nGBV_Sexual                        int32\nCXCA                              int32\nKP_ANC                            int32\nNewpos_ANC                        int32\non HAART _ANC                     int32\nNew on HAART_ANC                  int32\ninfant_arv_prophyl_anc            int32\nPos_L&D                           int32\nhaart_l_d                         int32\ninfant_arv_prophyl_LD             int32\ninfant_arv_prophyl_lt8wks_pnc     int32\nTB_STAT_D                         int32\nanc_initial_test                  int32\nfirst_anc_visits                  int32\nTX_New_p                          int32\nTX_New_a                          int32\nTX_New_t                          int32\nTX_Curr_p                         int32\nTX_Curr_a                         int32\nTX_Curr_t                         int32\nTST_t                             int32\nTST_p                             int32\nTST_a                             int32\nTST_pos_p                         int32\nTST_pos_a                         int32\nTST_pos_t                         int32\nPMTCT_STAT_N                      int32\nPMTCT_STAT_D                      int32\nPMTCT_Pos                         int32\nPMTCT_ARV                         int32\nPMTCT_INF_ARV                     int32\nPos_PNC                           int32\ndtype: object"
     },
     "execution_count": 259,
     "metadata": {},
     "output_type": "execute_result"
    }
   ],
   "source": [
    "df.dtypes"
   ],
   "metadata": {
    "collapsed": false,
    "pycharm": {
     "name": "#%%\n"
    }
   }
  },
  {
   "cell_type": "code",
   "execution_count": 260,
   "outputs": [
    {
     "data": {
      "text/plain": "MFL                               int64\nMonth                            object\nFacility                         object\nPrEP_New                          int32\nIPT                               int32\nGBV_Sexual                        int32\nCXCA                              int32\nKP_ANC                            int32\nNewpos_ANC                        int32\non HAART _ANC                     int32\nNew on HAART_ANC                  int32\ninfant_arv_prophyl_anc            int32\nPos_L&D                           int32\nhaart_l_d                         int32\ninfant_arv_prophyl_LD             int32\ninfant_arv_prophyl_lt8wks_pnc     int32\nTB_STAT_D                         int32\nanc_initial_test                  int32\nfirst_anc_visits                  int32\nTX_New_p                          int32\nTX_New_a                          int32\nTX_New_t                          int32\nTX_Curr_p                         int32\nTX_Curr_a                         int32\nTX_Curr_t                         int32\nTST_t                             int32\nTST_p                             int32\nTST_a                             int32\nTST_pos_p                         int32\nTST_pos_a                         int32\nTST_pos_t                         int32\nPMTCT_STAT_N                      int32\nPMTCT_STAT_D                      int32\nPMTCT_Pos                         int32\nPMTCT_ARV                         int32\nPMTCT_INF_ARV                     int32\nPos_PNC                           int32\ndtype: object"
     },
     "execution_count": 260,
     "metadata": {},
     "output_type": "execute_result"
    }
   ],
   "source": [
    "df.dtypes"
   ],
   "metadata": {
    "collapsed": false,
    "pycharm": {
     "name": "#%%\n"
    }
   }
  },
  {
   "cell_type": "code",
   "execution_count": 260,
   "outputs": [],
   "source": [],
   "metadata": {
    "collapsed": false,
    "pycharm": {
     "name": "#%%\n"
    }
   }
  },
  {
   "cell_type": "code",
   "execution_count": 261,
   "outputs": [
    {
     "data": {
      "text/plain": "     MFL                    Facility           Month  TST_p  TST_a  TST_t  \\\n0  18398  Ajam Mission Health Centre  Oct - Dec 2022      3    130    133   \n\n   TST_pos_p  TST_pos_a  TST_pos_t  TX_New_p  ...  GBV Emotional/Phy  KP_ANC  \\\n0          0          5          5         0  ...                 29       1   \n\n   Newpos_ANC  on HAART _ANC  New on HAART_ANC  Pos_L&D  Pos_PNC  CXCA  \\\n0           0              1                 0      NaN      NaN    17   \n\n   TB_STAT_D  IPT  \n0          0   21  \n\n[1 rows x 35 columns]",
      "text/html": "<div>\n<style scoped>\n    .dataframe tbody tr th:only-of-type {\n        vertical-align: middle;\n    }\n\n    .dataframe tbody tr th {\n        vertical-align: top;\n    }\n\n    .dataframe thead th {\n        text-align: right;\n    }\n</style>\n<table border=\"1\" class=\"dataframe\">\n  <thead>\n    <tr style=\"text-align: right;\">\n      <th></th>\n      <th>MFL</th>\n      <th>Facility</th>\n      <th>Month</th>\n      <th>TST_p</th>\n      <th>TST_a</th>\n      <th>TST_t</th>\n      <th>TST_pos_p</th>\n      <th>TST_pos_a</th>\n      <th>TST_pos_t</th>\n      <th>TX_New_p</th>\n      <th>...</th>\n      <th>GBV Emotional/Phy</th>\n      <th>KP_ANC</th>\n      <th>Newpos_ANC</th>\n      <th>on HAART _ANC</th>\n      <th>New on HAART_ANC</th>\n      <th>Pos_L&amp;D</th>\n      <th>Pos_PNC</th>\n      <th>CXCA</th>\n      <th>TB_STAT_D</th>\n      <th>IPT</th>\n    </tr>\n  </thead>\n  <tbody>\n    <tr>\n      <th>0</th>\n      <td>18398</td>\n      <td>Ajam Mission Health Centre</td>\n      <td>Oct - Dec 2022</td>\n      <td>3</td>\n      <td>130</td>\n      <td>133</td>\n      <td>0</td>\n      <td>5</td>\n      <td>5</td>\n      <td>0</td>\n      <td>...</td>\n      <td>29</td>\n      <td>1</td>\n      <td>0</td>\n      <td>1</td>\n      <td>0</td>\n      <td>NaN</td>\n      <td>NaN</td>\n      <td>17</td>\n      <td>0</td>\n      <td>21</td>\n    </tr>\n  </tbody>\n</table>\n<p>1 rows × 35 columns</p>\n</div>"
     },
     "execution_count": 261,
     "metadata": {},
     "output_type": "execute_result"
    }
   ],
   "source": [
    "datim=pd.read_excel(r\"C:\\Users\\Admin\\Documents\\jupter notebooks\\fyj perf fy22 q3.xlsx\")\n",
    "datim.head(1)"
   ],
   "metadata": {
    "collapsed": false,
    "pycharm": {
     "name": "#%%\n"
    }
   }
  },
  {
   "cell_type": "code",
   "execution_count": 262,
   "outputs": [
    {
     "data": {
      "text/plain": "Index(['MFL', 'Month', 'Facility', 'PrEP_New', 'IPT', 'GBV_Sexual', 'CXCA',\n       'KP_ANC', 'Newpos_ANC', 'on HAART _ANC', 'New on HAART_ANC',\n       'infant_arv_prophyl_anc', 'Pos_L&D', 'haart_l_d',\n       'infant_arv_prophyl_LD', 'infant_arv_prophyl_lt8wks_pnc', 'TB_STAT_D',\n       'anc_initial_test', 'first_anc_visits', 'TX_New_p', 'TX_New_a',\n       'TX_New_t', 'TX_Curr_p', 'TX_Curr_a', 'TX_Curr_t', 'TST_t', 'TST_p',\n       'TST_a', 'TST_pos_p', 'TST_pos_a', 'TST_pos_t', 'PMTCT_STAT_N',\n       'PMTCT_STAT_D', 'PMTCT_Pos', 'PMTCT_ARV', 'PMTCT_INF_ARV', 'Pos_PNC'],\n      dtype='object')"
     },
     "execution_count": 262,
     "metadata": {},
     "output_type": "execute_result"
    }
   ],
   "source": [
    "df.columns"
   ],
   "metadata": {
    "collapsed": false,
    "pycharm": {
     "name": "#%%\n"
    }
   }
  },
  {
   "cell_type": "code",
   "execution_count": 263,
   "outputs": [
    {
     "data": {
      "text/plain": "Index(['MFL', 'Facility', 'Month', 'TST_p', 'TST_a', 'TST_t', 'TST_pos_p',\n       'TST_pos_a', 'TST_pos_t', 'TX_New_p', 'TX_New_a', 'TX_New_t',\n       'TX_Curr_p', 'TX_Curr_a', 'TX_Curr_t', 'PMTCT_STAT_D', 'PMTCT_STAT_N',\n       'PMTCT_Pos', 'PMTCT_ARV', 'PMTCT_INF_ARV', 'PMTCT_EID', 'HEI_Pos',\n       'HEI_Pos ART', 'PrEP_New', 'GBV_Sexual', 'GBV Emotional/Phy', 'KP_ANC',\n       'Newpos_ANC', 'on HAART _ANC', 'New on HAART_ANC', 'Pos_L&D', 'Pos_PNC',\n       'CXCA', 'TB_STAT_D', 'IPT'],\n      dtype='object')"
     },
     "execution_count": 263,
     "metadata": {},
     "output_type": "execute_result"
    }
   ],
   "source": [
    "datim.columns"
   ],
   "metadata": {
    "collapsed": false,
    "pycharm": {
     "name": "#%%\n"
    }
   }
  },
  {
   "cell_type": "code",
   "execution_count": 324,
   "outputs": [],
   "source": [],
   "metadata": {
    "collapsed": false,
    "pycharm": {
     "name": "#%%\n"
    }
   }
  },
  {
   "cell_type": "code",
   "execution_count": 325,
   "outputs": [],
   "source": [],
   "metadata": {
    "collapsed": false,
    "pycharm": {
     "name": "#%%\n"
    }
   }
  },
  {
   "cell_type": "code",
   "execution_count": 288,
   "outputs": [
    {
     "data": {
      "text/plain": "Index(['MFL', 'Month', 'Facility', 'PrEP_New', 'IPT', 'GBV_Sexual', 'CXCA',\n       'KP_ANC', 'Newpos_ANC', 'on HAART _ANC', 'New on HAART_ANC',\n       'infant_arv_prophyl_anc', 'Pos_L&D', 'haart_l_d',\n       'infant_arv_prophyl_LD', 'infant_arv_prophyl_lt8wks_pnc', 'TB_STAT_D',\n       'anc_initial_test', 'first_anc_visits', 'TX_New_p', 'TX_New_a',\n       'TX_New_t', 'TX_Curr_p', 'TX_Curr_a', 'TX_Curr_t', 'TST_t', 'TST_p',\n       'TST_a', 'TST_pos_p', 'TST_pos_a', 'TST_pos_t', 'PMTCT_STAT_N',\n       'PMTCT_STAT_D', 'PMTCT_Pos', 'PMTCT_ARV', 'PMTCT_INF_ARV', 'Pos_PNC'],\n      dtype='object')"
     },
     "execution_count": 288,
     "metadata": {},
     "output_type": "execute_result"
    }
   ],
   "source": [
    "df.columns"
   ],
   "metadata": {
    "collapsed": false,
    "pycharm": {
     "name": "#%%\n"
    }
   }
  },
  {
   "cell_type": "code",
   "execution_count": 268,
   "outputs": [],
   "source": [
    "# ['TST_p', 'TST_a', 'TST_t', 'TST_pos_p',\n",
    "#        'TST_pos_a', 'TST_pos_t', 'TX_New_p', 'TX_New_a', 'TX_New_t',\n",
    "#        'TX_Curr_p', 'TX_Curr_a', 'TX_Curr_t', 'PMTCT_STAT_D', 'PMTCT_STAT_N',\n",
    "#        'PMTCT_Pos', 'PMTCT_ARV', 'PMTCT_INF_ARV', 'PMTCT_EID', 'HEI_Pos',\n",
    "#        'HEI_Pos ART', 'PrEP_New', 'GBV_Sexual', 'GBV Emotional/Phy', 'KP_ANC',\n",
    "#        'Newpos_ANC', 'on HAART _ANC', 'New on HAART_ANC', 'Pos_L&D', 'Pos_PNC',\n",
    "#        'CXCA', 'TB_STAT_D', 'IPT']"
   ],
   "metadata": {
    "collapsed": false,
    "pycharm": {
     "name": "#%%\n"
    }
   }
  },
  {
   "cell_type": "code",
   "execution_count": 268,
   "outputs": [],
   "source": [],
   "metadata": {
    "collapsed": false,
    "pycharm": {
     "name": "#%%\n"
    }
   }
  },
  {
   "cell_type": "code",
   "execution_count": 269,
   "outputs": [],
   "source": [
    "# ['mfl', 'month', 'mois', 'facility', 'UniqID', 'PrEP_New', 'IPT',\n",
    "#        'GBV_Sexual', 'CXCA', 'dhis_tested_9', 'dhis_tested_14m',\n",
    "#        'dhis_tested_14f', 'dhis_tested_19m', 'dhis_tested_19f',\n",
    "#        'dhis_tested_24m', 'dhis_tested_24f', 'dhis_tested_25m',\n",
    "#        'dhis_tested_25f', 'dhis_pos_lt9', 'dhis_pos_14m', 'dhis_pos_14f',\n",
    "#        'dhis_pos_19m', 'dhis_pos_19f', 'dhis_pos_24m', 'dhis_pos_24f',\n",
    "#        'dhis_pos_25m', 'dhis_pos_25f', 'known_pos_at_first_anc',\n",
    "#        'pos_results_anc', 'on_haart_at_first_anc', 'start_haart_anc',\n",
    "#        'infant_arv_prophyl_anc', 'pos_results_LD', 'start_haart_LD',\n",
    "#\n",
    "#        'infant_arv_prophyl_LD',\n",
    "#  'pos_results_pnc_lt6wks',\n",
    "#        'start_haart_pnc_lt6wks',\n",
    "#  'infant_arv_prophyl_lt8wks_pnc',\n",
    "#        'dhis_start_art_lt1',\n",
    "#\n",
    "#  'dhis_start_art_9','dhis_start_art_14m','dhis_start_art_14f',\n",
    "#\n",
    "#  'dhis_start_art_19m','dhis_start_art_19f','dhis_start_art_24m','dhis_start_art_24f','dhis_start_art_25m','dhis_start_art_25f'\n",
    "#\n",
    "# 'dhis_tb_cases_new',\n",
    "#\n",
    "#        'dhis_on_art_lt1', 'dhis_on_art_9', 'dhis_on_art_14m',\n",
    "#        'dhis_on_art_14f', 'dhis_on_art_19m', 'dhis_on_art_19f',\n",
    "#        'dhis_on_art_24m', 'dhis_on_art_24f', 'dhis_on_art_25m',\n",
    "#        'dhis_on_art_25f']"
   ],
   "metadata": {
    "collapsed": false,
    "pycharm": {
     "name": "#%%\n"
    }
   }
  },
  {
   "cell_type": "code",
   "execution_count": 269,
   "outputs": [],
   "source": [],
   "metadata": {
    "collapsed": false,
    "pycharm": {
     "name": "#%%\n"
    }
   }
  },
  {
   "cell_type": "code",
   "execution_count": 269,
   "outputs": [],
   "source": [],
   "metadata": {
    "collapsed": false,
    "pycharm": {
     "name": "#%%\n"
    }
   }
  },
  {
   "cell_type": "code",
   "execution_count": 270,
   "outputs": [
    {
     "data": {
      "text/plain": "(450, 37)"
     },
     "execution_count": 270,
     "metadata": {},
     "output_type": "execute_result"
    }
   ],
   "source": [
    "df.shape"
   ],
   "metadata": {
    "collapsed": false,
    "pycharm": {
     "name": "#%%\n"
    }
   }
  },
  {
   "cell_type": "code",
   "execution_count": 271,
   "outputs": [
    {
     "data": {
      "text/plain": "Index(['MFL', 'Month', 'Facility', 'PrEP_New', 'IPT', 'GBV_Sexual', 'CXCA',\n       'KP_ANC', 'Newpos_ANC', 'on HAART _ANC', 'New on HAART_ANC',\n       'infant_arv_prophyl_anc', 'Pos_L&D', 'haart_l_d',\n       'infant_arv_prophyl_LD', 'infant_arv_prophyl_lt8wks_pnc', 'TB_STAT_D',\n       'anc_initial_test', 'first_anc_visits', 'TX_New_p', 'TX_New_a',\n       'TX_New_t', 'TX_Curr_p', 'TX_Curr_a', 'TX_Curr_t', 'TST_t', 'TST_p',\n       'TST_a', 'TST_pos_p', 'TST_pos_a', 'TST_pos_t', 'PMTCT_STAT_N',\n       'PMTCT_STAT_D', 'PMTCT_Pos', 'PMTCT_ARV', 'PMTCT_INF_ARV', 'Pos_PNC'],\n      dtype='object')"
     },
     "execution_count": 271,
     "metadata": {},
     "output_type": "execute_result"
    }
   ],
   "source": [
    "df.columns"
   ],
   "metadata": {
    "collapsed": false,
    "pycharm": {
     "name": "#%%\n"
    }
   }
  },
  {
   "cell_type": "code",
   "execution_count": 272,
   "outputs": [
    {
     "data": {
      "text/plain": "     MFL     Month                             Facility  PrEP_New  IPT  \\\n0  16796  Oct 2022  AAR Clinic Sarit Centre (Westlands)         0    0   \n\n   GBV_Sexual  CXCA  KP_ANC  Newpos_ANC  on HAART _ANC  ...  TST_a  TST_pos_p  \\\n0           0     0       0           0              0  ...     75          0   \n\n   TST_pos_a  TST_pos_t  PMTCT_STAT_N  PMTCT_STAT_D  PMTCT_Pos  PMTCT_ARV  \\\n0          0          0            10            10          0          0   \n\n   PMTCT_INF_ARV  Pos_PNC  \n0              0        0  \n\n[1 rows x 37 columns]",
      "text/html": "<div>\n<style scoped>\n    .dataframe tbody tr th:only-of-type {\n        vertical-align: middle;\n    }\n\n    .dataframe tbody tr th {\n        vertical-align: top;\n    }\n\n    .dataframe thead th {\n        text-align: right;\n    }\n</style>\n<table border=\"1\" class=\"dataframe\">\n  <thead>\n    <tr style=\"text-align: right;\">\n      <th></th>\n      <th>MFL</th>\n      <th>Month</th>\n      <th>Facility</th>\n      <th>PrEP_New</th>\n      <th>IPT</th>\n      <th>GBV_Sexual</th>\n      <th>CXCA</th>\n      <th>KP_ANC</th>\n      <th>Newpos_ANC</th>\n      <th>on HAART _ANC</th>\n      <th>...</th>\n      <th>TST_a</th>\n      <th>TST_pos_p</th>\n      <th>TST_pos_a</th>\n      <th>TST_pos_t</th>\n      <th>PMTCT_STAT_N</th>\n      <th>PMTCT_STAT_D</th>\n      <th>PMTCT_Pos</th>\n      <th>PMTCT_ARV</th>\n      <th>PMTCT_INF_ARV</th>\n      <th>Pos_PNC</th>\n    </tr>\n  </thead>\n  <tbody>\n    <tr>\n      <th>0</th>\n      <td>16796</td>\n      <td>Oct 2022</td>\n      <td>AAR Clinic Sarit Centre (Westlands)</td>\n      <td>0</td>\n      <td>0</td>\n      <td>0</td>\n      <td>0</td>\n      <td>0</td>\n      <td>0</td>\n      <td>0</td>\n      <td>...</td>\n      <td>75</td>\n      <td>0</td>\n      <td>0</td>\n      <td>0</td>\n      <td>10</td>\n      <td>10</td>\n      <td>0</td>\n      <td>0</td>\n      <td>0</td>\n      <td>0</td>\n    </tr>\n  </tbody>\n</table>\n<p>1 rows × 37 columns</p>\n</div>"
     },
     "execution_count": 272,
     "metadata": {},
     "output_type": "execute_result"
    }
   ],
   "source": [
    "df.head(1)"
   ],
   "metadata": {
    "collapsed": false,
    "pycharm": {
     "name": "#%%\n"
    }
   }
  },
  {
   "cell_type": "code",
   "execution_count": 273,
   "outputs": [
    {
     "data": {
      "text/plain": "Index(['MFL', 'Month', 'Facility', 'PrEP_New', 'IPT', 'GBV_Sexual', 'CXCA',\n       'KP_ANC', 'Newpos_ANC', 'on HAART _ANC', 'New on HAART_ANC',\n       'infant_arv_prophyl_anc', 'Pos_L&D', 'haart_l_d',\n       'infant_arv_prophyl_LD', 'infant_arv_prophyl_lt8wks_pnc', 'TB_STAT_D',\n       'anc_initial_test', 'first_anc_visits', 'TX_New_p', 'TX_New_a',\n       'TX_New_t', 'TX_Curr_p', 'TX_Curr_a', 'TX_Curr_t', 'TST_t', 'TST_p',\n       'TST_a', 'TST_pos_p', 'TST_pos_a', 'TST_pos_t', 'PMTCT_STAT_N',\n       'PMTCT_STAT_D', 'PMTCT_Pos', 'PMTCT_ARV', 'PMTCT_INF_ARV', 'Pos_PNC'],\n      dtype='object')"
     },
     "execution_count": 273,
     "metadata": {},
     "output_type": "execute_result"
    }
   ],
   "source": [
    "df.columns"
   ],
   "metadata": {
    "collapsed": false,
    "pycharm": {
     "name": "#%%\n"
    }
   }
  },
  {
   "cell_type": "code",
   "execution_count": 274,
   "outputs": [
    {
     "data": {
      "text/plain": "(450, 37)"
     },
     "execution_count": 274,
     "metadata": {},
     "output_type": "execute_result"
    }
   ],
   "source": [
    "df.shape"
   ],
   "metadata": {
    "collapsed": false,
    "pycharm": {
     "name": "#%%\n"
    }
   }
  },
  {
   "cell_type": "code",
   "execution_count": 276,
   "outputs": [
    {
     "data": {
      "text/plain": "array(['Oct 2022', 'Nov 2022', 'Dec 2022'], dtype=object)"
     },
     "execution_count": 276,
     "metadata": {},
     "output_type": "execute_result"
    }
   ],
   "source": [
    "df['Month'].unique()"
   ],
   "metadata": {
    "collapsed": false,
    "pycharm": {
     "name": "#%%\n"
    }
   }
  },
  {
   "cell_type": "code",
   "execution_count": 277,
   "outputs": [
    {
     "name": "stdout",
     "output_type": "stream",
     "text": [
      "missing: []\n",
      "added: []\n"
     ]
    }
   ],
   "source": [
    "list1 = list(df.columns)\n",
    "list2 = list(datim.columns)\n",
    "\n",
    "set1 = set(list1)\n",
    "set2 = set(list2)\n",
    "\n",
    "missing = list(sorted(set1 - set2))\n",
    "added = list(sorted(set2 - set1))\n",
    "\n",
    "print('missing:', missing)\n",
    "print('added:', added)"
   ],
   "metadata": {
    "collapsed": false,
    "pycharm": {
     "name": "#%%\n"
    }
   }
  },
  {
   "cell_type": "code",
   "execution_count": null,
   "outputs": [],
   "source": [],
   "metadata": {
    "collapsed": false,
    "pycharm": {
     "name": "#%%\n"
    }
   }
  }
 ],
 "metadata": {
  "kernelspec": {
   "display_name": "Python 3",
   "language": "python",
   "name": "python3"
  },
  "language_info": {
   "codemirror_mode": {
    "name": "ipython",
    "version": 2
   },
   "file_extension": ".py",
   "mimetype": "text/x-python",
   "name": "python",
   "nbconvert_exporter": "python",
   "pygments_lexer": "ipython2",
   "version": "2.7.6"
  }
 },
 "nbformat": 4,
 "nbformat_minor": 0
}